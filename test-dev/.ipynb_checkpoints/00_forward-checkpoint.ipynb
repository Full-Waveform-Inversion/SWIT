{
 "cells": [
  {
   "cell_type": "code",
   "execution_count": 1,
   "id": "d8022b11-8a88-4744-88a4-6877a50b2a66",
   "metadata": {},
   "outputs": [],
   "source": [
    "## notebook setup\n",
    "%matplotlib inline\n",
    "%load_ext autoreload\n",
    "%autoreload 2"
   ]
  },
  {
   "cell_type": "code",
   "execution_count": 3,
   "id": "6ad06fb6-372d-4b46-92c3-d67d74e92406",
   "metadata": {},
   "outputs": [],
   "source": [
    "import sys\n",
    "sys.path.append('/Users/haipeng/Documents/GitHub/SWIT-1.0/toolbox-dev/')\n",
    "\n",
    "import numpy as np\n",
    "import matplotlib.pyplot as plt\n",
    "import matplotlib\n",
    "from IPython.display import HTML\n",
    "#matplotlib.use('Qt5Agg')   # 'agg'\n",
    "\n",
    "\n",
    "from base import model, source, receiver, config"
   ]
  },
  {
   "cell_type": "code",
   "execution_count": 4,
   "id": "be9d6e78-1153-484e-bd24-41572880f6c4",
   "metadata": {},
   "outputs": [
    {
     "ename": "NameError",
     "evalue": "name 'modelpath' is not defined",
     "output_type": "error",
     "traceback": [
      "\u001b[0;31m---------------------------------------------------------------------------\u001b[0m",
      "\u001b[0;31mNameError\u001b[0m                                 Traceback (most recent call last)",
      "Input \u001b[0;32mIn [4]\u001b[0m, in \u001b[0;36m<cell line: 16>\u001b[0;34m()\u001b[0m\n\u001b[1;32m     13\u001b[0m rho_init \u001b[38;5;241m=\u001b[39m np\u001b[38;5;241m.\u001b[39mzeros((nx, nz))\n\u001b[1;32m     15\u001b[0m \u001b[38;5;66;03m# true model\u001b[39;00m\n\u001b[0;32m---> 16\u001b[0m vp_true \u001b[38;5;241m=\u001b[39m np\u001b[38;5;241m.\u001b[39mloadtxt(\u001b[43mmodelpath\u001b[49m \u001b[38;5;241m+\u001b[39m \u001b[38;5;124m'\u001b[39m\u001b[38;5;124mMarmousi_481_141_25m.dat\u001b[39m\u001b[38;5;124m'\u001b[39m)\n\u001b[1;32m     18\u001b[0m \u001b[38;5;66;03m# initial model\u001b[39;00m\n\u001b[1;32m     19\u001b[0m vp_init \u001b[38;5;241m=\u001b[39m np\u001b[38;5;241m.\u001b[39mcopy(vp_true)\n",
      "\u001b[0;31mNameError\u001b[0m: name 'modelpath' is not defined"
     ]
    }
   ],
   "source": [
    "work_path = '/Users/haipeng/Desktop/SWIT-1.1/00_forward/'   # Working path\n",
    "mpi_num   = 49                                     # MPI process for fd2dmpi\n",
    "\n",
    "### model setup\n",
    "nx,  nz, pml = [481,  141, 50]                     # Grid number along x and z directions, Grid number for PML layers (use a large one)\n",
    "dx,  dt,  nt = [25, 0.002, 4001]                   # Grid size, time interval, and time step\n",
    "\n",
    "# velocity and density\n",
    "vp_true = np.zeros((nx, nz))\n",
    "vp_init = np.zeros((nx, nz))\n",
    "rho_true = np.zeros((nx, nz))\n",
    "rho_init = np.zeros((nx, nz))\n",
    "\n",
    "# true model\n",
    "modelpath = '/Users/haipeng/Documents/GitHub/SWIT-1.0/example/model/'\n",
    "vp_true = np.loadtxt(modelpath + 'Marmousi_481_141_25m.dat')\n",
    "rho_true = np.power(vp_true, 0.25) * 310   # density models, (Gardner, 1974)\n",
    "\n",
    "\n",
    "### sources setup \n",
    "f0    = 5.0                                              # Dominant frequency in Hz\n",
    "srcxz = np.loadtxt(modelpath + 'source_coordinate.dat')  # Source coordinates\n",
    "srcn  = srcxz.shape[0]                                   # Source number along x axis\n",
    "wavelet  = np.zeros((srcn, nt))                          # Source wavelet\n",
    "for isrc in range(srcn):\n",
    "    wavelet[isrc,:] = source_wavelet(nt, dt, f0, 'ricker')\n",
    "\n",
    "### receivers setup\n",
    "temp = np.loadtxt(modelpath + 'receiver_coordinate.dat') # Receiver coordinates\n",
    "recn  = temp.shape[0]                                    # Receiver number\n",
    "recxz = np.zeros((srcn, recn, 2))                        # Receiver positions\n",
    "for isrc in range(srcn):\n",
    "    recxz[isrc,:,0] = temp[:,0]                          # Receiver x position (m)\n",
    "    recxz[isrc,:,1] = temp[:,1]                          # Receiver z position (m)"
   ]
  },
  {
   "cell_type": "code",
   "execution_count": null,
   "id": "14f7675a-5bc2-4c1e-b289-c3b96b16cab3",
   "metadata": {},
   "outputs": [],
   "source": [
    "## configuration\n",
    "config = config(work_path, mpi_num)\n",
    "\n",
    "## model\n",
    "model = model(nx, nz, dx, dt, nt, pml, vp, rho)\n",
    "\n",
    "## receiver \n",
    "receiver = receiver(recxz, ['p'])\n",
    "\n",
    "## source\n",
    "source = source(coord, wavelet, f0)\n",
    "\n",
    "## solver\n",
    "solver = solver(config, model, source, receiver)\n",
    "\n",
    "\n",
    "\n",
    "\n"
   ]
  }
 ],
 "metadata": {
  "kernelspec": {
   "display_name": "Python 3 (ipykernel)",
   "language": "python",
   "name": "python3"
  },
  "language_info": {
   "codemirror_mode": {
    "name": "ipython",
    "version": 3
   },
   "file_extension": ".py",
   "mimetype": "text/x-python",
   "name": "python",
   "nbconvert_exporter": "python",
   "pygments_lexer": "ipython3",
   "version": "3.9.13"
  }
 },
 "nbformat": 4,
 "nbformat_minor": 5
}
