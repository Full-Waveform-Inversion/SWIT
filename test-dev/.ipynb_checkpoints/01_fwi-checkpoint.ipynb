{
 "cells": [
  {
   "cell_type": "code",
   "execution_count": 1,
   "id": "99abc239-7c77-4fe6-9f6a-dd7f48dc9edb",
   "metadata": {},
   "outputs": [],
   "source": [
    "## notebook setup\n",
    "%matplotlib inline\n",
    "%load_ext autoreload\n",
    "%autoreload 2"
   ]
  },
  {
   "cell_type": "code",
   "execution_count": 2,
   "id": "23ef72e7-449d-447f-b046-9ed19d5dd73d",
   "metadata": {},
   "outputs": [],
   "source": [
    "import sys\n",
    "sys.path.append('/homes/sep/haipeng/develop/SWIT-1.0/toolbox-dev/')\n",
    "\n",
    "import numpy as np\n",
    "import matplotlib.pyplot as plt\n",
    "import matplotlib\n",
    "from IPython.display import HTML\n",
    "#matplotlib.use('Qt5Agg')   # 'agg'\n",
    "\n",
    "from acquisition import Model, Source, Receiver, Config\n",
    "from optimizer import Optimizer\n",
    "from utils import source_wavelet\n",
    "from solver import Solver\n",
    "from tools import load_float\n"
   ]
  },
  {
   "cell_type": "code",
   "execution_count": 3,
   "id": "54a4c9a8-a426-4eda-b3a7-9c9e0d3f93db",
   "metadata": {},
   "outputs": [],
   "source": [
    "work_path = '/scr2/haipeng/SWIT-1.1/01_fwi/'   # Working path\n",
    "mpi_num   = 49                                     # MPI process for fd2dmpi\n",
    "\n",
    "### model setup\n",
    "nx,  nz, pml = [481,  141, 40]                     # Grid number along x and z directions, Grid number for PML layers (use a large one)\n",
    "dx,  dt,  nt = [25, 0.002, 2001]                   # Grid size, time interval, and time step\n",
    "\n",
    "# velocity and density\n",
    "vp_true = np.zeros((nx, nz))\n",
    "vp_init = np.zeros((nx, nz))\n",
    "rho_true = np.zeros((nx, nz))\n",
    "rho_init = np.zeros((nx, nz))\n",
    "\n",
    "# true model\n",
    "modelpath = '/homes/sep/haipeng/develop/SWIT-1.0/examples/case-01-marmousi2/model/'\n",
    "# vp_true = np.loadtxt(modelpath + 'Marmousi_481_141_25m.dat')\n",
    "# rho_true = np.power(vp_true, 0.25) * 310   # density models, (Gardner, 1974)\n",
    "\n",
    "vp_true = np.ones((nx, nz)) * 4000\n",
    "vp_true[220:240,60:80] = 4500\n",
    "rho_true = np.power(vp_true, 0.25) * 310   # density models, (Gardner, 1974)\n",
    "\n",
    "\n",
    "### sources setup \n",
    "f0    = 5.0                                              # Dominant frequency in Hz\n",
    "amp0  = 1.0                                              # Amplitude of the source wavelet\n",
    "srcxz = np.loadtxt(modelpath + 'source_coordinate.dat')  # Source coordinates\n",
    "srcn  = srcxz.shape[0]                                   # Source number along x axis\n",
    "wavelet  = np.zeros((srcn, nt))                          # Source wavelet\n",
    "\n",
    "src = source_wavelet(amp0, nt, dt, f0, 'Ricker')\n",
    "\n",
    "for isrc in range(srcn):\n",
    "    wavelet[isrc,:] = source_wavelet(amp0, nt, dt, f0, 'ricker')\n",
    "\n",
    "### receivers setup\n",
    "temp = np.loadtxt(modelpath + 'receiver_coordinate.dat') # Receiver coordinates\n",
    "recn = temp.shape[0]                                    # Receiver number\n",
    "recxz = []                         # Receiver positions\n",
    "for isrc in range(srcn):\n",
    "    # nrec = isrc * 10 + 1 \n",
    "    # recxz_isrc = np.zeros((nrec, 2)) \n",
    "    # recxz_isrc[:,0] = temp[0:nrec,0]                          # Receiver x position (m)\n",
    "    # recxz_isrc[:,1] = temp[0:nrec,1]                          # Receiver z position (m)\n",
    "    # recxz.append(recxz_isrc) \n",
    "    nrec = nx \n",
    "    recxz_isrc = np.zeros((nrec, 2)) \n",
    "    recxz_isrc[:,0] = temp[0:nrec,0]                          # Receiver x position (m)\n",
    "    recxz_isrc[:,1] = temp[0:nrec,1]                          # Receiver z position (m)\n",
    "    recxz.append(recxz_isrc) \n",
    "    \n",
    "# initial model\n",
    "vp_init = np.ones((nx, nz)) * 4000\n",
    "rho_init = np.power(vp_init, 0.25) * 310"
   ]
  },
  {
   "cell_type": "code",
   "execution_count": 4,
   "id": "57b9defb-bb3c-4162-975a-ed24a8aea4e6",
   "metadata": {},
   "outputs": [
    {
     "name": "stdout",
     "output_type": "stream",
     "text": [
      "Warning: number of mpi processes 49 is larger than the number of CPUs, setting it maximum available CPUs to 24.\n",
      "Solver information:\n",
      "    nt = 2001, dt = 2.0 ms, time = 4.0 s\n",
      "    nx = 481, nz = 141, dx = 25 m\n",
      "    x  = 0 ~ 12.0 km\n",
      "    z  = 0 ~ 3.5 km\n",
      "    vp = 4000.0 ~ 4500.0 m/s\n",
      "    Source number = 49\n",
      "    Receiver component = ['p']\n",
      "    24 task in parallel\n",
      "\n",
      "Optimizer information:\n",
      "    Initial model range: 4000.00 ~ 4000.00 m/s\n",
      "    Misfit type: waveform\n",
      "    Optimization scheme: CG\n",
      "    Gradient smooth size: 0\n",
      "    Gradient mask is not applied\n",
      "    Maximum number of iterations: 20\n",
      "    Convergence criteria: 1.00e-06\n",
      "    Optimization method: CG\n",
      "    Bound constraints option: False\n",
      "    Debug option: False\n"
     ]
    }
   ],
   "source": [
    "## configuration\n",
    "config = Config(work_path, mpi_num)\n",
    "\n",
    "## model\n",
    "model = Model(nx, nz, dx, dt, nt, pml, vp_true, rho_true)\n",
    "\n",
    "## source\n",
    "source = Source(srcxz, wavelet, f0)\n",
    "\n",
    "## receiver \n",
    "receiver = Receiver(recxz, ['p'])\n",
    "\n",
    "## solver\n",
    "solver = Solver(config, model, source, receiver)\n",
    "\n",
    "## optimizer\n",
    "optimizer = Optimizer(vp_init = vp_init, rho_init = rho_init, max_update_val = 50, misfit_type = 'waveform', optim_scheme = 'CG', grad_smooth_size = 0, niter_max = 20, method = 'CG', debug = True)"
   ]
  },
  {
   "cell_type": "code",
   "execution_count": 5,
   "id": "a2a616ad-c271-4047-bc0e-31db420b0921",
   "metadata": {},
   "outputs": [
    {
     "data": {
      "image/png": "[encoded data removed]",
      "text/plain": [
       "<Figure size 640x480 with 1 Axes>"
      ]
     },
     "metadata": {},
     "output_type": "display_data"
    }
   ],
   "source": [
    "# run forward modeling to generate obs data\n",
    "plt.imshow(vp_true.T)\n",
    "solver.run(simu_type = 'forward', simu_tag = 'obs', data_format= 'su')\n",
    "\n"
   ]
  },
  {
   "cell_type": "code",
   "execution_count": 6,
   "id": "db1c675c-6808-474e-8dd1-bff238377354",
   "metadata": {},
   "outputs": [
    {
     "name": "stdout",
     "output_type": "stream",
     "text": [
      "Initial fcost: 6.115739899257689e-09 \n",
      "\n",
      "debug :\n",
      "fcost : 1.3636930504352515e-08\n",
      "self.fk : 6.115739899257689e-09\n",
      "self.m1*self.alpha*self.q0 : -0.0\n",
      "self.q : 37863428.100766405\n",
      "self.m2*self.q0 : -31276361.84099883\n",
      "debug :\n",
      "fcost : 1.7998672156937748e-09\n",
      "self.fk : 6.115739899257689e-09\n",
      "self.m1*self.alpha*self.q0 : -0.0\n",
      "self.q : 31431335.21294949\n",
      "self.m2*self.q0 : -31276361.84099883\n",
      "debug :\n",
      "fcost : 1.4344937790062079e-06\n",
      "self.fk : 1.7998672156937748e-09\n",
      "self.m1*self.alpha*self.q0 : -0.0\n",
      "self.q : 106878684.77816251\n",
      "self.m2*self.q0 : -401464678.9794261\n",
      "debug :\n",
      "fcost : 4.893996371692393e-07\n",
      "self.fk : 1.7998672156937748e-09\n",
      "self.m1*self.alpha*self.q0 : -0.0\n",
      "self.q : 223708773.63849398\n",
      "self.m2*self.q0 : -401464678.9794261\n",
      "debug :\n",
      "fcost : 1.293483168043967e-07\n",
      "self.fk : 1.7998672156937748e-09\n",
      "self.m1*self.alpha*self.q0 : -0.0\n",
      "self.q : 248225475.0553365\n",
      "self.m2*self.q0 : -401464678.9794261\n",
      "debug :\n",
      "fcost : 2.9624777234752628e-08\n",
      "self.fk : 1.7998672156937748e-09\n",
      "self.m1*self.alpha*self.q0 : -0.0\n",
      "self.q : 238461578.41829324\n",
      "self.m2*self.q0 : -401464678.9794261\n",
      "debug :\n",
      "fcost : 6.381179456193993e-09\n",
      "self.fk : 1.7998672156937748e-09\n",
      "self.m1*self.alpha*self.q0 : -0.0\n",
      "self.q : 216284548.52754906\n",
      "self.m2*self.q0 : -401464678.9794261\n"
     ]
    },
    {
     "ename": "KeyboardInterrupt",
     "evalue": "",
     "output_type": "error",
     "traceback": [
      "\u001b[0;31m---------------------------------------------------------------------------\u001b[0m",
      "\u001b[0;31mKeyboardInterrupt\u001b[0m                         Traceback (most recent call last)",
      "\u001b[0;32m/tmp/ipykernel_45603/3072944579.py\u001b[0m in \u001b[0;36m<module>\u001b[0;34m\u001b[0m\n\u001b[1;32m      1\u001b[0m \u001b[0;32mfrom\u001b[0m \u001b[0mworkflow\u001b[0m \u001b[0;32mimport\u001b[0m \u001b[0mFWI\u001b[0m\u001b[0;34m\u001b[0m\u001b[0;34m\u001b[0m\u001b[0m\n\u001b[1;32m      2\u001b[0m \u001b[0mfwi\u001b[0m \u001b[0;34m=\u001b[0m \u001b[0mFWI\u001b[0m\u001b[0;34m(\u001b[0m\u001b[0msolver\u001b[0m\u001b[0;34m,\u001b[0m \u001b[0moptimizer\u001b[0m\u001b[0;34m)\u001b[0m\u001b[0;34m\u001b[0m\u001b[0;34m\u001b[0m\u001b[0m\n\u001b[0;32m----> 3\u001b[0;31m \u001b[0mfwi\u001b[0m\u001b[0;34m.\u001b[0m\u001b[0mrun\u001b[0m\u001b[0;34m(\u001b[0m\u001b[0;34m)\u001b[0m\u001b[0;34m\u001b[0m\u001b[0;34m\u001b[0m\u001b[0m\n\u001b[0m",
      "\u001b[0;32m~/develop/SWIT-1.0/toolbox-dev/workflow.py\u001b[0m in \u001b[0;36mrun\u001b[0;34m(self)\u001b[0m\n\u001b[1;32m    169\u001b[0m                 \u001b[0;31m# compute cost and gradient of the updated model\u001b[0m\u001b[0;34m\u001b[0m\u001b[0;34m\u001b[0m\u001b[0m\n\u001b[1;32m    170\u001b[0m                 \u001b[0mcount\u001b[0m \u001b[0;34m+=\u001b[0m \u001b[0;36m1\u001b[0m\u001b[0;34m\u001b[0m\u001b[0;34m\u001b[0m\u001b[0m\n\u001b[0;32m--> 171\u001b[0;31m                 \u001b[0mfcost_all_src\u001b[0m\u001b[0;34m,\u001b[0m \u001b[0mfcost\u001b[0m\u001b[0;34m,\u001b[0m \u001b[0mgrad\u001b[0m \u001b[0;34m=\u001b[0m \u001b[0mself\u001b[0m\u001b[0;34m.\u001b[0m\u001b[0mcalculate_gradient_misfit\u001b[0m\u001b[0;34m(\u001b[0m\u001b[0mvp\u001b[0m \u001b[0;34m=\u001b[0m \u001b[0mvp\u001b[0m\u001b[0;34m,\u001b[0m \u001b[0mrho\u001b[0m \u001b[0;34m=\u001b[0m \u001b[0mrho\u001b[0m\u001b[0;34m)\u001b[0m\u001b[0;34m\u001b[0m\u001b[0;34m\u001b[0m\u001b[0m\n\u001b[0m\u001b[1;32m    172\u001b[0m \u001b[0;34m\u001b[0m\u001b[0m\n\u001b[1;32m    173\u001b[0m                 \u001b[0;31m# precondition gradient\u001b[0m\u001b[0;34m\u001b[0m\u001b[0;34m\u001b[0m\u001b[0m\n",
      "\u001b[0;32m~/develop/SWIT-1.0/toolbox-dev/workflow.py\u001b[0m in \u001b[0;36mcalculate_gradient_misfit\u001b[0;34m(self, vp, rho)\u001b[0m\n\u001b[1;32m    104\u001b[0m \u001b[0;34m\u001b[0m\u001b[0m\n\u001b[1;32m    105\u001b[0m         \u001b[0;31m# calculate gradient via adjoint modeling\u001b[0m\u001b[0;34m\u001b[0m\u001b[0;34m\u001b[0m\u001b[0m\n\u001b[0;32m--> 106\u001b[0;31m         \u001b[0mself\u001b[0m\u001b[0;34m.\u001b[0m\u001b[0msolver\u001b[0m\u001b[0;34m.\u001b[0m\u001b[0mrun\u001b[0m\u001b[0;34m(\u001b[0m\u001b[0msimu_type\u001b[0m \u001b[0;34m=\u001b[0m \u001b[0;34m'gradient'\u001b[0m\u001b[0;34m,\u001b[0m \u001b[0msimu_tag\u001b[0m \u001b[0;34m=\u001b[0m \u001b[0;34m'syn'\u001b[0m\u001b[0;34m)\u001b[0m\u001b[0;34m\u001b[0m\u001b[0;34m\u001b[0m\u001b[0m\n\u001b[0m\u001b[1;32m    107\u001b[0m \u001b[0;34m\u001b[0m\u001b[0m\n\u001b[1;32m    108\u001b[0m         \u001b[0;31m# process gradient\u001b[0m\u001b[0;34m\u001b[0m\u001b[0;34m\u001b[0m\u001b[0m\n",
      "\u001b[0;32m~/develop/SWIT-1.0/toolbox-dev/solver.py\u001b[0m in \u001b[0;36mrun\u001b[0;34m(self, simu_type, simu_tag, data_format, save_snap, save_boundary)\u001b[0m\n\u001b[1;32m     91\u001b[0m         \u001b[0;31m# run the solver with mpi\u001b[0m\u001b[0;34m\u001b[0m\u001b[0;34m\u001b[0m\u001b[0m\n\u001b[1;32m     92\u001b[0m         \u001b[0mcmd\u001b[0m \u001b[0;34m=\u001b[0m \u001b[0;34m'mpirun -np {}  fd2dmpi config={}'\u001b[0m\u001b[0;34m.\u001b[0m\u001b[0mformat\u001b[0m\u001b[0;34m(\u001b[0m\u001b[0mself\u001b[0m\u001b[0;34m.\u001b[0m\u001b[0mconfig\u001b[0m\u001b[0;34m.\u001b[0m\u001b[0mmpi_num\u001b[0m\u001b[0;34m,\u001b[0m \u001b[0mself\u001b[0m\u001b[0;34m.\u001b[0m\u001b[0mconfig\u001b[0m\u001b[0;34m.\u001b[0m\u001b[0mpath\u001b[0m \u001b[0;34m+\u001b[0m \u001b[0;34m'config/solver.config'\u001b[0m\u001b[0;34m)\u001b[0m\u001b[0;34m\u001b[0m\u001b[0;34m\u001b[0m\u001b[0m\n\u001b[0;32m---> 93\u001b[0;31m         \u001b[0mstatus\u001b[0m \u001b[0;34m=\u001b[0m \u001b[0msubprocess\u001b[0m\u001b[0;34m.\u001b[0m\u001b[0mgetstatusoutput\u001b[0m\u001b[0;34m(\u001b[0m\u001b[0mcmd\u001b[0m\u001b[0;34m)\u001b[0m\u001b[0;34m\u001b[0m\u001b[0;34m\u001b[0m\u001b[0m\n\u001b[0m\u001b[1;32m     94\u001b[0m \u001b[0;34m\u001b[0m\u001b[0m\n\u001b[1;32m     95\u001b[0m         \u001b[0;31m# check the status of the solver\u001b[0m\u001b[0;34m\u001b[0m\u001b[0;34m\u001b[0m\u001b[0m\n",
      "\u001b[0;32m~/anaconda3/lib/python3.9/subprocess.py\u001b[0m in \u001b[0;36mgetstatusoutput\u001b[0;34m(cmd)\u001b[0m\n\u001b[1;32m    626\u001b[0m     \"\"\"\n\u001b[1;32m    627\u001b[0m     \u001b[0;32mtry\u001b[0m\u001b[0;34m:\u001b[0m\u001b[0;34m\u001b[0m\u001b[0;34m\u001b[0m\u001b[0m\n\u001b[0;32m--> 628\u001b[0;31m         \u001b[0mdata\u001b[0m \u001b[0;34m=\u001b[0m \u001b[0mcheck_output\u001b[0m\u001b[0;34m(\u001b[0m\u001b[0mcmd\u001b[0m\u001b[0;34m,\u001b[0m \u001b[0mshell\u001b[0m\u001b[0;34m=\u001b[0m\u001b[0;32mTrue\u001b[0m\u001b[0;34m,\u001b[0m \u001b[0mtext\u001b[0m\u001b[0;34m=\u001b[0m\u001b[0;32mTrue\u001b[0m\u001b[0;34m,\u001b[0m \u001b[0mstderr\u001b[0m\u001b[0;34m=\u001b[0m\u001b[0mSTDOUT\u001b[0m\u001b[0;34m)\u001b[0m\u001b[0;34m\u001b[0m\u001b[0;34m\u001b[0m\u001b[0m\n\u001b[0m\u001b[1;32m    629\u001b[0m         \u001b[0mexitcode\u001b[0m \u001b[0;34m=\u001b[0m \u001b[0;36m0\u001b[0m\u001b[0;34m\u001b[0m\u001b[0;34m\u001b[0m\u001b[0m\n\u001b[1;32m    630\u001b[0m     \u001b[0;32mexcept\u001b[0m \u001b[0mCalledProcessError\u001b[0m \u001b[0;32mas\u001b[0m \u001b[0mex\u001b[0m\u001b[0;34m:\u001b[0m\u001b[0;34m\u001b[0m\u001b[0;34m\u001b[0m\u001b[0m\n",
      "\u001b[0;32m~/anaconda3/lib/python3.9/subprocess.py\u001b[0m in \u001b[0;36mcheck_output\u001b[0;34m(timeout, *popenargs, **kwargs)\u001b[0m\n\u001b[1;32m    422\u001b[0m         \u001b[0mkwargs\u001b[0m\u001b[0;34m[\u001b[0m\u001b[0;34m'input'\u001b[0m\u001b[0;34m]\u001b[0m \u001b[0;34m=\u001b[0m \u001b[0mempty\u001b[0m\u001b[0;34m\u001b[0m\u001b[0;34m\u001b[0m\u001b[0m\n\u001b[1;32m    423\u001b[0m \u001b[0;34m\u001b[0m\u001b[0m\n\u001b[0;32m--> 424\u001b[0;31m     return run(*popenargs, stdout=PIPE, timeout=timeout, check=True,\n\u001b[0m\u001b[1;32m    425\u001b[0m                **kwargs).stdout\n\u001b[1;32m    426\u001b[0m \u001b[0;34m\u001b[0m\u001b[0m\n",
      "\u001b[0;32m~/anaconda3/lib/python3.9/subprocess.py\u001b[0m in \u001b[0;36mrun\u001b[0;34m(input, capture_output, timeout, check, *popenargs, **kwargs)\u001b[0m\n\u001b[1;32m    505\u001b[0m     \u001b[0;32mwith\u001b[0m \u001b[0mPopen\u001b[0m\u001b[0;34m(\u001b[0m\u001b[0;34m*\u001b[0m\u001b[0mpopenargs\u001b[0m\u001b[0;34m,\u001b[0m \u001b[0;34m**\u001b[0m\u001b[0mkwargs\u001b[0m\u001b[0;34m)\u001b[0m \u001b[0;32mas\u001b[0m \u001b[0mprocess\u001b[0m\u001b[0;34m:\u001b[0m\u001b[0;34m\u001b[0m\u001b[0;34m\u001b[0m\u001b[0m\n\u001b[1;32m    506\u001b[0m         \u001b[0;32mtry\u001b[0m\u001b[0;34m:\u001b[0m\u001b[0;34m\u001b[0m\u001b[0;34m\u001b[0m\u001b[0m\n\u001b[0;32m--> 507\u001b[0;31m             \u001b[0mstdout\u001b[0m\u001b[0;34m,\u001b[0m \u001b[0mstderr\u001b[0m \u001b[0;34m=\u001b[0m \u001b[0mprocess\u001b[0m\u001b[0;34m.\u001b[0m\u001b[0mcommunicate\u001b[0m\u001b[0;34m(\u001b[0m\u001b[0minput\u001b[0m\u001b[0;34m,\u001b[0m \u001b[0mtimeout\u001b[0m\u001b[0;34m=\u001b[0m\u001b[0mtimeout\u001b[0m\u001b[0;34m)\u001b[0m\u001b[0;34m\u001b[0m\u001b[0;34m\u001b[0m\u001b[0m\n\u001b[0m\u001b[1;32m    508\u001b[0m         \u001b[0;32mexcept\u001b[0m \u001b[0mTimeoutExpired\u001b[0m \u001b[0;32mas\u001b[0m \u001b[0mexc\u001b[0m\u001b[0;34m:\u001b[0m\u001b[0;34m\u001b[0m\u001b[0;34m\u001b[0m\u001b[0m\n\u001b[1;32m    509\u001b[0m             \u001b[0mprocess\u001b[0m\u001b[0;34m.\u001b[0m\u001b[0mkill\u001b[0m\u001b[0;34m(\u001b[0m\u001b[0;34m)\u001b[0m\u001b[0;34m\u001b[0m\u001b[0;34m\u001b[0m\u001b[0m\n",
      "\u001b[0;32m~/anaconda3/lib/python3.9/subprocess.py\u001b[0m in \u001b[0;36mcommunicate\u001b[0;34m(self, input, timeout)\u001b[0m\n\u001b[1;32m   1119\u001b[0m                 \u001b[0mself\u001b[0m\u001b[0;34m.\u001b[0m\u001b[0m_stdin_write\u001b[0m\u001b[0;34m(\u001b[0m\u001b[0minput\u001b[0m\u001b[0;34m)\u001b[0m\u001b[0;34m\u001b[0m\u001b[0;34m\u001b[0m\u001b[0m\n\u001b[1;32m   1120\u001b[0m             \u001b[0;32melif\u001b[0m \u001b[0mself\u001b[0m\u001b[0;34m.\u001b[0m\u001b[0mstdout\u001b[0m\u001b[0;34m:\u001b[0m\u001b[0;34m\u001b[0m\u001b[0;34m\u001b[0m\u001b[0m\n\u001b[0;32m-> 1121\u001b[0;31m                 \u001b[0mstdout\u001b[0m \u001b[0;34m=\u001b[0m \u001b[0mself\u001b[0m\u001b[0;34m.\u001b[0m\u001b[0mstdout\u001b[0m\u001b[0;34m.\u001b[0m\u001b[0mread\u001b[0m\u001b[0;34m(\u001b[0m\u001b[0;34m)\u001b[0m\u001b[0;34m\u001b[0m\u001b[0;34m\u001b[0m\u001b[0m\n\u001b[0m\u001b[1;32m   1122\u001b[0m                 \u001b[0mself\u001b[0m\u001b[0;34m.\u001b[0m\u001b[0mstdout\u001b[0m\u001b[0;34m.\u001b[0m\u001b[0mclose\u001b[0m\u001b[0;34m(\u001b[0m\u001b[0;34m)\u001b[0m\u001b[0;34m\u001b[0m\u001b[0;34m\u001b[0m\u001b[0m\n\u001b[1;32m   1123\u001b[0m             \u001b[0;32melif\u001b[0m \u001b[0mself\u001b[0m\u001b[0;34m.\u001b[0m\u001b[0mstderr\u001b[0m\u001b[0;34m:\u001b[0m\u001b[0;34m\u001b[0m\u001b[0;34m\u001b[0m\u001b[0m\n",
      "\u001b[0;31mKeyboardInterrupt\u001b[0m: "
     ]
    }
   ],
   "source": [
    "from workflow import FWI\n",
    "fwi = FWI(solver, optimizer)\n",
    "fwi.run()"
   ]
  },
  {
   "cell_type": "code",
   "execution_count": null,
   "id": "9316b1f5-316e-4485-94a0-692ee3529cdb",
   "metadata": {},
   "outputs": [],
   "source": [
    "# fcost_all_src, fcost, grad = fwi.calculate_gradient_misfit(vp = vp_init, rho = rho_init)\n",
    "# plt.imshow(grad.T, vmin = -120, vmax = 120)"
   ]
  },
  {
   "cell_type": "code",
   "execution_count": null,
   "id": "0cff68fa-12f2-4a9d-a205-b16cf1d7559c",
   "metadata": {},
   "outputs": [],
   "source": [
    "# grad = np.zeros((nx, nz))\n",
    "# for i in range(srcn):\n",
    "#     grad += load_float(config.path + 'data/syn/src{}/vp_gradient.bin'.format(i+1)).reshape(nx, nz)\n",
    "# grad = grad/grad.max()\n",
    "# plt.imshow(grad.T, vmin = -0.6, vmax = 0.6)"
   ]
  }
 ],
 "metadata": {
  "kernelspec": {
   "display_name": "Python 3",
   "language": "python",
   "name": "python3"
  },
  "language_info": {
   "codemirror_mode": {
    "name": "ipython",
    "version": 3
   },
   "file_extension": ".py",
   "mimetype": "text/x-python",
   "name": "python",
   "nbconvert_exporter": "python",
   "pygments_lexer": "ipython3",
   "version": "3.9.13"
  }
 },
 "nbformat": 4,
 "nbformat_minor": 5
}
