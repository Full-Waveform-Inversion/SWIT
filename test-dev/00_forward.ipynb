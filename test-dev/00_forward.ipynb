{
 "cells": [
  {
   "cell_type": "code",
   "execution_count": 15,
   "id": "d8022b11-8a88-4744-88a4-6877a50b2a66",
   "metadata": {},
   "outputs": [
    {
     "name": "stdout",
     "output_type": "stream",
     "text": [
      "The autoreload extension is already loaded. To reload it, use:\n",
      "  %reload_ext autoreload\n"
     ]
    }
   ],
   "source": [
    "## notebook setup\n",
    "%matplotlib inline\n",
    "%load_ext autoreload\n",
    "%autoreload 2"
   ]
  },
  {
   "cell_type": "code",
   "execution_count": 26,
   "id": "6ad06fb6-372d-4b46-92c3-d67d74e92406",
   "metadata": {},
   "outputs": [],
   "source": [
    "import sys\n",
    "sys.path.append('/Users/haipeng/Documents/GitHub/SWIT-1.0/toolbox-dev/')\n",
    "\n",
    "import numpy as np\n",
    "import matplotlib.pyplot as plt\n",
    "import matplotlib\n",
    "from IPython.display import HTML\n",
    "#matplotlib.use('Qt5Agg')   # 'agg'\n",
    "\n",
    "from base import Model, Source, Receiver, Config\n",
    "from utils import source_wavelet\n",
    "from solver import Solver"
   ]
  },
  {
   "cell_type": "code",
   "execution_count": 22,
   "id": "be9d6e78-1153-484e-bd24-41572880f6c4",
   "metadata": {},
   "outputs": [],
   "source": [
    "work_path = '/Users/haipeng/Desktop/SWIT-1.1/00_forward/'   # Working path\n",
    "mpi_num   = 49                                     # MPI process for fd2dmpi\n",
    "\n",
    "### model setup\n",
    "nx,  nz, pml = [481,  141, 50]                     # Grid number along x and z directions, Grid number for PML layers (use a large one)\n",
    "dx,  dt,  nt = [25, 0.002, 4001]                   # Grid size, time interval, and time step\n",
    "\n",
    "# velocity and density\n",
    "vp_true = np.zeros((nx, nz))\n",
    "vp_init = np.zeros((nx, nz))\n",
    "rho_true = np.zeros((nx, nz))\n",
    "rho_init = np.zeros((nx, nz))\n",
    "\n",
    "# true model\n",
    "modelpath = '/Users/haipeng/Documents/GitHub/SWIT-1.0/examples/case-01-marmousi2/model/'\n",
    "vp_true = np.loadtxt(modelpath + 'Marmousi_481_141_25m.dat')\n",
    "rho_true = np.power(vp_true, 0.25) * 310   # density models, (Gardner, 1974)\n",
    "\n",
    "\n",
    "### sources setup \n",
    "f0    = 5.0                                              # Dominant frequency in Hz\n",
    "amp0  = 1.0                                              # Amplitude of the source wavelet\n",
    "srcxz = np.loadtxt(modelpath + 'source_coordinate.dat')  # Source coordinates\n",
    "srcn  = srcxz.shape[0]                                   # Source number along x axis\n",
    "wavelet  = np.zeros((srcn, nt))                          # Source wavelet\n",
    "\n",
    "src = source_wavelet(amp0, nt, dt, f0, 'Ricker')\n",
    "\n",
    "for isrc in range(srcn):\n",
    "    wavelet[isrc,:] = source_wavelet(amp0, nt, dt, f0, 'ricker')\n",
    "\n",
    "### receivers setup\n",
    "temp = np.loadtxt(modelpath + 'receiver_coordinate.dat') # Receiver coordinates\n",
    "recn  = temp.shape[0]                                    # Receiver number\n",
    "recxz = np.zeros((srcn, recn, 2))                        # Receiver positions\n",
    "for isrc in range(srcn):\n",
    "    recxz[isrc,:,0] = temp[:,0]                          # Receiver x position (m)\n",
    "    recxz[isrc,:,1] = temp[:,1]                          # Receiver z position (m)"
   ]
  },
  {
   "cell_type": "code",
   "execution_count": 37,
   "id": "14f7675a-5bc2-4c1e-b289-c3b96b16cab3",
   "metadata": {},
   "outputs": [
    {
     "name": "stdout",
     "output_type": "stream",
     "text": [
      "Warning: number of mpi processes 49 is larger than the number of CPUs, setting it maximum available CPUs to 6.\n",
      "Warning: modeling dispersion, dx = 25.00 m > dx_required =  22.66 m\n",
      "Warning: modeling dispersion, f0 = 5.00 Hz > f0_required = 4.53 Hz\n",
      "*****************************************************\n",
      "\n",
      "    Seismic Waveform Inversion Toolbox: Forward    \n",
      "\n",
      "*****************************************************\n",
      "\n",
      "Solver: nt = 4001, dt = 2.0 ms, time = 8.0 s\n",
      "Solver: nx = 481, nz = 141, dx = 25 m\n",
      "Solver: x  = 0 ~ 12.0 km\n",
      "Solver: z  = 0 ~ 3.5 km\n",
      "Solver: vp = 1132.7542 ~ 4700.0 m/s\n",
      "Solver: Source number = 49\n",
      "Solver: Receiver component = ['p']\n",
      "Solver: 6 task in parallel\n",
      "\n"
     ]
    }
   ],
   "source": [
    "## configuration\n",
    "config = Config(work_path, mpi_num)\n",
    "\n",
    "## model\n",
    "model = Model(nx, nz, dx, dt, nt, pml, vp_true, rho_true)\n",
    "\n",
    "\n",
    "## source\n",
    "source = Source(srcxz, wavelet, f0)\n",
    "\n",
    "\n",
    "## receiver \n",
    "receiver = Receiver(recxz, ['p'])\n",
    "\n",
    "\n",
    "## solver\n",
    "solver = Solver(config, model, source, receiver)"
   ]
  },
  {
   "cell_type": "code",
   "execution_count": 13,
   "id": "5c364d1b",
   "metadata": {},
   "outputs": [
    {
     "data": {
      "text/plain": [
       "2"
      ]
     },
     "execution_count": 13,
     "metadata": {},
     "output_type": "execute_result"
    }
   ],
   "source": []
  },
  {
   "cell_type": "code",
   "execution_count": null,
   "id": "a154c2e1",
   "metadata": {},
   "outputs": [],
   "source": []
  }
 ],
 "metadata": {
  "kernelspec": {
   "display_name": "base",
   "language": "python",
   "name": "python3"
  },
  "language_info": {
   "codemirror_mode": {
    "name": "ipython",
    "version": 3
   },
   "file_extension": ".py",
   "mimetype": "text/x-python",
   "name": "python",
   "nbconvert_exporter": "python",
   "pygments_lexer": "ipython3",
   "version": "3.9.13"
  },
  "vscode": {
   "interpreter": {
    "hash": "b31d7b6afb0f0a81109fdeb5bc8c039e956ddb6915815bb12120743a932056ae"
   }
  }
 },
 "nbformat": 4,
 "nbformat_minor": 5
}
