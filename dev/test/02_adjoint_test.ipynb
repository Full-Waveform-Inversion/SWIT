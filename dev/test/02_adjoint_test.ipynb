{
 "cells": [
  {
   "cell_type": "code",
   "execution_count": null,
   "id": "b6a54ba3-6a4d-4f61-bae5-2ec91c61eae4",
   "metadata": {},
   "outputs": [],
   "source": [
    "## notebook setup\n",
    "%matplotlib inline\n",
    "%load_ext autoreload\n",
    "%autoreload 2"
   ]
  },
  {
   "cell_type": "code",
   "execution_count": null,
   "id": "ae206877-6e52-4c86-9e59-4473fe1a746a",
   "metadata": {},
   "outputs": [],
   "source": [
    "import sys\n",
    "sys.path.append('/homes/sep/haipeng/develop/SWIT-1.0/dev/toolbox-dev/')\n",
    "\n",
    "import numpy as np\n",
    "import matplotlib.pyplot as plt\n",
    "import matplotlib\n",
    "from IPython.display import HTML\n",
    "#matplotlib.use('Qt5Agg')   # 'agg'\n",
    "\n",
    "from survey import Model, Source, Receiver, System\n",
    "from utils import source_wavelet\n",
    "from solver import Solver\n",
    "from tools import load_float, save_float"
   ]
  },
  {
   "cell_type": "code",
   "execution_count": null,
   "id": "2af7da2d-63de-4574-8a4a-c7375ac2ca01",
   "metadata": {},
   "outputs": [],
   "source": [
    "work_path = '/scr2/haipeng/SWIT-1.1/02_adjoint_test/'   # Working path\n",
    "mpi_num   = 49                                     # MPI process for fd2dmpi\n",
    "\n",
    "### model setup\n",
    "nx,  nz, pml = [401,  401, 60]                     # Grid number along x and z directions, Grid number for PML layers (use a large one)\n",
    "dx,  dt,  nt = [10, 0.001, 1001]                   # Grid size, time interval, and time step\n",
    "\n",
    "# velocity and density\n",
    "vp_true = np.zeros((nx, nz))\n",
    "vp_init = np.zeros((nx, nz))\n",
    "rho_true = np.zeros((nx, nz))\n",
    "rho_init = np.zeros((nx, nz))\n",
    "\n",
    "# true model\n",
    "modelpath = '/homes/sep/haipeng/develop/SWIT-1.0/examples/case-01-marmousi2/model/'\n",
    "# vp_true = np.loadtxt(modelpath + 'Marmousi_481_141_25m.dat')\n",
    "# rho_true = np.power(vp_true, 0.25) * 310   # density models, (Gardner, 1974)\n",
    "\n",
    "\n",
    "# vp_true = np.random.uniform(low=3500, high=4000, size=(nx*nz,)).reshape(nx, nz)\n",
    "\n",
    "vp_true = np.ones((nx, nz)) * 4000\n",
    "rho_true = np.power(vp_true, 0.25) * 310   # density models, (Gardner, 1974)\n",
    "\n",
    "\n",
    "### sources setup \n",
    "f0    = 8.0                                              # Dominant frequency in Hz\n",
    "amp0  = 1.0                                              # Amplitude of the source wavelet\n",
    "# srcxz = np.loadtxt(modelpath + 'source_coordinate.dat')  # Source coordinates\n",
    "srcn  = 1                                                # Source number along x axis\n",
    "wavelet = np.zeros((srcn, nt))                          # Source wavelet\n",
    "srcxz = np.zeros((srcn, 2))   \n",
    "srcxz[0,0] = 2000\n",
    "srcxz[0,1] = 2000\n",
    "\n",
    "src = source_wavelet(amp0, nt, dt, f0, 'Ricker')\n",
    "\n",
    "for isrc in range(srcn):\n",
    "    wavelet[isrc,:] = source_wavelet(amp0, nt, dt, f0, 'ricker')\n",
    "\n",
    "\n",
    "recn = 2\n",
    "recxz = np.zeros((recn, 2))   \n",
    "recxz[0,0] = 2000\n",
    "recxz[0,1] = 2000\n",
    "recxz[1,0] = 3000\n",
    "recxz[1,1] = 2000\n",
    "recxz = [recxz]\n",
    "    \n",
    "### receivers setup\n",
    "# temp = np.loadtxt(modelpath + 'receiver_coordinate.dat') # Receiver coordinates\n",
    "# recn = temp.shape[0]                                    # Receiver number\n",
    "# recxz = []                         # Receiver positions\n",
    "# for isrc in range(srcn):\n",
    "#     # nrec = isrc * 10 + 1 \n",
    "#     # recxz_isrc = np.zeros((nrec, 2)) \n",
    "#     # recxz_isrc[:,0] = temp[0:nrec,0]                          # Receiver x position (m)\n",
    "#     # recxz_isrc[:,1] = temp[0:nrec,1]                          # Receiver z position (m)\n",
    "#     # recxz.append(recxz_isrc) \n",
    "#     nrec = nx \n",
    "#     recxz_isrc = np.zeros((nrec, 2)) \n",
    "#     recxz_isrc[:,0] = temp[0:nrec,0]                          # Receiver x position (m)\n",
    "#     recxz_isrc[:,1] = temp[0:nrec,1]                          # Receiver z position (m)\n",
    "#     recxz.append(recxz_isrc) "
   ]
  },
  {
   "cell_type": "code",
   "execution_count": null,
   "id": "6ad72f29-082b-4401-8dce-90331e003072",
   "metadata": {},
   "outputs": [],
   "source": [
    "plt.imshow(vp_true)\n",
    "plt.colorbar()"
   ]
  },
  {
   "cell_type": "code",
   "execution_count": null,
   "id": "09c29a68-1c77-4faf-bc4e-c312f1e72eb0",
   "metadata": {},
   "outputs": [],
   "source": [
    "## configuration\n",
    "config = System(work_path, mpi_num)\n",
    "\n",
    "## model\n",
    "model = Model(nx, nz, dx, dt, nt, pml, vp_true, rho_true)\n",
    "\n",
    "## source\n",
    "source = Source(srcxz, wavelet, f0)\n",
    "\n",
    "## receiver \n",
    "receiver = Receiver(recxz, 'vz')\n",
    "\n",
    "## solver\n",
    "solver = Solver(config, model, source, receiver)"
   ]
  },
  {
   "cell_type": "code",
   "execution_count": null,
   "id": "9c0e360f-a066-4c48-9abc-cc6dd92e489e",
   "metadata": {},
   "outputs": [],
   "source": [
    "solver.run(simu_type = 'forward', simu_tag = 'obs', save_snap = False)\n",
    "obs_trace = load_float(config.path + 'data/obs/src1/sg.bin').reshape(-1, nt)"
   ]
  },
  {
   "cell_type": "code",
   "execution_count": null,
   "id": "a629391c-56c9-4983-8db0-e47fb3cc2e71",
   "metadata": {},
   "outputs": [],
   "source": [
    "# save adjoint source\n",
    "adj_src = np.zeros((2, nt))\n",
    "adj_src[1,:] = obs_trace[1,:]\n",
    "save_float(config.path + 'config/wavelet/src1_adj.bin', adj_src)"
   ]
  },
  {
   "cell_type": "code",
   "execution_count": null,
   "id": "4c5bc44c-9cb8-4d34-aace-f8a9272a87d4",
   "metadata": {},
   "outputs": [],
   "source": [
    "solver.run(simu_type = 'adjoint', simu_tag = 'adj', save_snap = False)\n",
    "adj_trace = load_float(config.path + 'data/adj/src1/sg.bin').reshape(-1, nt)"
   ]
  },
  {
   "cell_type": "code",
   "execution_count": null,
   "id": "97619108-0208-4c75-ac8d-807e06ba5216",
   "metadata": {},
   "outputs": [],
   "source": [
    "from scipy import integrate\n",
    "src_in_use = integrate.cumtrapz(src, axis=-1, initial=0)\n",
    "\n",
    "# dot-product test\n",
    "a = np.inner(obs_trace[1,:], adj_src[1,:]) \n",
    "b = np.inner(src_in_use, adj_trace[0,:])\n",
    "print(\"Dot product test: a = %2.5e, b = %2.5e, ratio = %2.5e, rerr = %2.5f\"%(a, b, a/b, (a-b)/(a+b)))"
   ]
  },
  {
   "cell_type": "code",
   "execution_count": null,
   "id": "0d7ee1fd-8e70-4196-a381-0933c86bd170",
   "metadata": {},
   "outputs": [],
   "source": [
    "plt.plot(obs_trace[1,:])\n",
    "plt.show()\n",
    "plt.plot(src_in_use/np.max(src_in_use))\n",
    "plt.plot(-adj_trace[0,:]/ np.max(adj_trace[0,:]))\n",
    "plt.show()\n",
    "plt.plot(adj_trace[0,:])\n",
    "plt.show()"
   ]
  },
  {
   "cell_type": "code",
   "execution_count": null,
   "id": "46a55e4a-e1e0-4768-92fe-c7b4d1f24f85",
   "metadata": {},
   "outputs": [],
   "source": []
  }
 ],
 "metadata": {
  "kernelspec": {
   "display_name": "base",
   "language": "python",
   "name": "python3"
  },
  "language_info": {
   "codemirror_mode": {
    "name": "ipython",
    "version": 3
   },
   "file_extension": ".py",
   "mimetype": "text/x-python",
   "name": "python",
   "nbconvert_exporter": "python",
   "pygments_lexer": "ipython3",
   "version": "3.9.13"
  },
  "vscode": {
   "interpreter": {
    "hash": "9741c6ba5481bf449e10a2eb49a024a5c318283b3966bdd8c0e3b6fbf1ef29b8"
   }
  }
 },
 "nbformat": 4,
 "nbformat_minor": 5
}
