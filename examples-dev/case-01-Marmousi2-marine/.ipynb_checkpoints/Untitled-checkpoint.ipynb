{
 "cells": [
  {
   "cell_type": "code",
   "execution_count": 28,
   "id": "dee285a7-0caf-408f-8427-53c6030a450b",
   "metadata": {},
   "outputs": [],
   "source": [
    "import sys\n",
    "sys.path.append('/homes/sep/haipeng/develop/SWIT-1.0/toolbox-dev/')\n",
    "\n",
    "import os\n",
    "import numpy as np\n",
    "from tools import load_yaml"
   ]
  },
  {
   "cell_type": "code",
   "execution_count": 29,
   "id": "452c20fd-d9f4-48be-b08c-960d4ea71731",
   "metadata": {},
   "outputs": [],
   "source": [
    "par = load_yaml('config.yaml')"
   ]
  },
  {
   "cell_type": "code",
   "execution_count": 30,
   "id": "e4365597-d2b3-4f97-be5b-0123c56e62cd",
   "metadata": {},
   "outputs": [],
   "source": [
    "class dic2obj(object):\n",
    "    def __init__(self, d):\n",
    "        for k, v in d.items():\n",
    "            if isinstance(k, (list, tuple)):\n",
    "                setattr(self, k, [obj(x) if isinstance(x, dict) else x for x in v])\n",
    "            else:\n",
    "                setattr(self, k, obj(v) if isinstance(v, dict) else v)"
   ]
  },
  {
   "cell_type": "code",
   "execution_count": 31,
   "id": "c06cadf1-50fa-48e8-ae5a-22a418d12536",
   "metadata": {},
   "outputs": [],
   "source": [
    "par_new = obj(par)"
   ]
  },
  {
   "cell_type": "code",
   "execution_count": 25,
   "id": "79af0f59-60f9-48b6-81bc-377ac9182a29",
   "metadata": {},
   "outputs": [
    {
     "data": {
      "text/plain": [
       "'p'"
      ]
     },
     "execution_count": 25,
     "metadata": {},
     "output_type": "execute_result"
    }
   ],
   "source": [
    "par_new.Config"
   ]
  },
  {
   "cell_type": "code",
   "execution_count": 10,
   "id": "0438f1bb-f994-4065-a33f-2a45e1d3101f",
   "metadata": {},
   "outputs": [
    {
     "ename": "SyntaxError",
     "evalue": "invalid syntax (1918759913.py, line 1)",
     "output_type": "error",
     "traceback": [
      "\u001b[0;36m  File \u001b[0;32m\"/tmp/ipykernel_30534/1918759913.py\"\u001b[0;36m, line \u001b[0;32m1\u001b[0m\n\u001b[0;31m    **par\u001b[0m\n\u001b[0m    ^\u001b[0m\n\u001b[0;31mSyntaxError\u001b[0m\u001b[0;31m:\u001b[0m invalid syntax\n"
     ]
    }
   ],
   "source": []
  },
  {
   "cell_type": "code",
   "execution_count": null,
   "id": "501e29b6-3744-4134-8d73-f9dada6008d0",
   "metadata": {},
   "outputs": [],
   "source": []
  }
 ],
 "metadata": {
  "kernelspec": {
   "display_name": "Python 3",
   "language": "python",
   "name": "python3"
  },
  "language_info": {
   "codemirror_mode": {
    "name": "ipython",
    "version": 3
   },
   "file_extension": ".py",
   "mimetype": "text/x-python",
   "name": "python",
   "nbconvert_exporter": "python",
   "pygments_lexer": "ipython3",
   "version": "3.9.13"
  }
 },
 "nbformat": 4,
 "nbformat_minor": 5
}
