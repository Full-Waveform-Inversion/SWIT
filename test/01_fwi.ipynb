{
 "cells": [
  {
   "cell_type": "code",
   "execution_count": 1,
   "id": "99abc239-7c77-4fe6-9f6a-dd7f48dc9edb",
   "metadata": {},
   "outputs": [],
   "source": [
    "## notebook setup\n",
    "%matplotlib inline\n",
    "%load_ext autoreload\n",
    "%autoreload 2"
   ]
  },
  {
   "cell_type": "code",
   "execution_count": 2,
   "id": "23ef72e7-449d-447f-b046-9ed19d5dd73d",
   "metadata": {},
   "outputs": [],
   "source": [
    "import sys\n",
    "sys.path.append('/homes/sep/haipeng/develop/SWIT-1.0/toolbox-dev/')\n",
    "\n",
    "import numpy as np\n",
    "import matplotlib.pyplot as plt\n",
    "import matplotlib\n",
    "from IPython.display import HTML\n",
    "#matplotlib.use('Qt5Agg')   # 'agg'\n",
    "\n",
    "from acquisition import Model, Source, Receiver, Config\n",
    "from solver import Solver\n",
    "from optimizer import Optimizer\n",
    "from preprocessor import Preprocessor\n",
    "\n",
    "from utils import source_wavelet\n",
    "from tools import load_float\n"
   ]
  },
  {
   "cell_type": "code",
   "execution_count": 3,
   "id": "54a4c9a8-a426-4eda-b3a7-9c9e0d3f93db",
   "metadata": {},
   "outputs": [],
   "source": [
    "work_path = '/scr2/haipeng/SWIT-1.1/01_fwi/'   # Working path\n",
    "mpi_num   = 24                                     # MPI process for fd2dmpi\n",
    "\n",
    "### model setup\n",
    "nx,  nz, pml = [481,  141, 40]                     # Grid number along x and z directions, Grid number for PML layers (use a large one)\n",
    "dx,  dt,  nt = [25, 0.002, 2001]                   # Grid size, time interval, and time step\n",
    "\n",
    "# velocity and density\n",
    "vp_true = np.zeros((nx, nz))\n",
    "vp_init = np.zeros((nx, nz))\n",
    "rho_true = np.zeros((nx, nz))\n",
    "rho_init = np.zeros((nx, nz))\n",
    "\n",
    "# true model\n",
    "modelpath = '/homes/sep/haipeng/develop/SWIT-1.0/examples/case-01-marmousi2/model/'\n",
    "# vp_true = np.loadtxt(modelpath + 'Marmousi_481_141_25m.dat')\n",
    "# rho_true = np.power(vp_true, 0.25) * 310   # density models, (Gardner, 1974)\n",
    "\n",
    "vp_true = np.ones((nx, nz)) * 4000\n",
    "vp_true[220:240,60:80] = 4500\n",
    "rho_true = np.power(vp_true, 0.25) * 310   # density models, (Gardner, 1974)\n",
    "acquisition_type = 'land'\n",
    "\n",
    "### sources setup \n",
    "f0    = 5.0                                              # Dominant frequency in Hz\n",
    "amp0  = 1.0                                              # Amplitude of the source wavelet\n",
    "srcxz = np.loadtxt(modelpath + 'source_coordinate.dat')  # Source coordinates\n",
    "srcxz = srcxz[1:-1:2,:]\n",
    "srcn  = srcxz.shape[0]                                   # Source number along x axis\n",
    "wavelet  = np.zeros((srcn, nt))                          # Source wavelet\n",
    "\n",
    "src = source_wavelet(amp0, nt, dt, f0, 'Ricker')\n",
    "\n",
    "for isrc in range(srcn):\n",
    "    wavelet[isrc,:] = source_wavelet(amp0, nt, dt, f0, 'ricker')\n",
    "\n",
    "### receivers setup\n",
    "temp = np.loadtxt(modelpath + 'receiver_coordinate.dat') # Receiver coordinates\n",
    "recn = temp.shape[0]                                    # Receiver number\n",
    "recxz = []                                              # Receiver positions\n",
    "for isrc in range(srcn):\n",
    "    # nrec = isrc * 10 + 1 \n",
    "    # recxz_isrc = np.zeros((nrec, 2)) \n",
    "    # recxz_isrc[:,0] = temp[0:nrec,0]                          # Receiver x position (m)\n",
    "    # recxz_isrc[:,1] = temp[0:nrec,1]                          # Receiver z position (m)\n",
    "    # recxz.append(recxz_isrc) \n",
    "    nrec = nx \n",
    "    recxz_isrc = np.zeros((nrec, 2)) \n",
    "    recxz_isrc[:,0] = temp[0:nrec,0]                          # Receiver x position (m)\n",
    "    recxz_isrc[:,1] = (nz-5) * dx - temp[0:nrec,1]                          # Receiver z position (m)\n",
    "    recxz.append(recxz_isrc) \n",
    "    \n",
    "# initial model\n",
    "vp_init = np.ones((nx, nz)) * 4000\n",
    "rho_init = np.power(vp_init, 0.25) * 310"
   ]
  },
  {
   "cell_type": "code",
   "execution_count": 4,
   "id": "57b9defb-bb3c-4162-975a-ed24a8aea4e6",
   "metadata": {},
   "outputs": [
    {
     "name": "stdout",
     "output_type": "stream",
     "text": [
      "\n",
      "Solver information:\n",
      "    Recording time    : nt = 2001, dt = 2.0 ms, total time = 4.0 s\n",
      "    Model size        : nx = 481, nz = 141, dx = 25 m\n",
      "    Model length      : 0 ~ 12.0 km\n",
      "    Model depth       : 0 ~  3.5 km\n",
      "    Model vp range    : 4000.0 ~ 4500.0 m/s\n",
      "    Recording time    : nt = 2001, dt = 2.0 ms, total time = 4.0 s\n",
      "    Source number     : 24, locating from 250.0 to 11750.0 m.\n",
      "    Receiver type     : ['p']\n",
      "    MPI task info     : 24 sources run in parallel\n",
      "\n",
      "Optimizer information:\n",
      "    Misfit function   : waveform\n",
      "    Inversion method  : LBFGS\n",
      "    Maximum iter      : 2\n",
      "    Maximum update    : 50 m/s\n",
      "    Maximum vp bound  : 5000.00 m/s\n",
      "    Minimum vp bound  : 1000.00 m/s\n",
      "    Initial vp model  : 4000.00 ~ 4000.00 m/s\n",
      "    Gradient smooth   : 0 grids Gaussian smooth\n",
      "    Gradient mask     : by default, 10 grids on top\n",
      "    Debug option      : False\n",
      "\n",
      "Preprocessor information:\n",
      "    Filter data       : none\n",
      "    Lowcut frequency  : 5.0 Hz\n",
      "    Highcut frequency : 10.0 Hz\n",
      "    Mute late arrivals: True\n",
      "    Mute time window  : 0.5 s\n",
      "    Mute near offset  : True\n",
      "    Mute near dist    : 500 m\n",
      "    Mute far offset   : True\n",
      "    Mute far dist     : 8000 m\n",
      "    Data normalization: False\n"
     ]
    }
   ],
   "source": [
    "## configuration\n",
    "config = Config(work_path, mpi_num)\n",
    "\n",
    "## model\n",
    "model = Model(nx, nz, dx, dt, nt, pml, vp_true, rho_true, acquisition_type = acquisition_type)\n",
    "\n",
    "## source\n",
    "source = Source(srcxz, wavelet, f0)\n",
    "\n",
    "## receiver \n",
    "receiver = Receiver(recxz, ['p'])\n",
    "\n",
    "## solver\n",
    "solver = Solver(config, model, source, receiver)\n",
    "\n",
    "## optimizer\n",
    "optimizer = Optimizer(vp_init = vp_init, rho_init = rho_init, \n",
    "                misfit_type = 'waveform', method = 'LBFGS', niter_max = 2,\n",
    "                bound = False, vp_max = 5000, vp_min = 1000, update_vpmax = 50, \n",
    "                grad_smooth_size = 0, grad_mask = None, debug = False)\n",
    "\n",
    "preprocessor = Preprocessor(filter_data = 'none', filter_low = 5.0, filter_high = 10.0, \n",
    "                 mute_late_arrival = True, mute_late_size = 0.5, \n",
    "                 normalize_data = False,\n",
    "                 mute_near_offset = True, mute_near_distance = 500, \n",
    "                 mute_far_offset = True, mute_far_distance = 8000)"
   ]
  },
  {
   "cell_type": "code",
   "execution_count": 5,
   "id": "a2a616ad-c271-4047-bc0e-31db420b0921",
   "metadata": {},
   "outputs": [
    {
     "data": {
      "image/png": "[encoded data removed]",
      "text/plain": [
       "<Figure size 640x480 with 1 Axes>"
      ]
     },
     "metadata": {},
     "output_type": "display_data"
    }
   ],
   "source": [
    "# run forward modeling to generate obs data\n",
    "plt.imshow(vp_true.T)\n",
    "solver.run(simu_type = 'forward', simu_tag = 'obs', data_format= 'su')"
   ]
  },
  {
   "cell_type": "code",
   "execution_count": 6,
   "id": "db1c675c-6808-474e-8dd1-bff238377354",
   "metadata": {},
   "outputs": [
    {
     "name": "stdout",
     "output_type": "stream",
     "text": [
      "\n",
      "\n",
      "FWI workflow: directories are built and previous results are cleaned up if any.\n",
      "FWI workflow: observed data are all found in: /scr2/haipeng/SWIT-1.1/01_fwi/data/obs/\n",
      "FWI workflow: start iteration ...\n",
      "\n"
     ]
    }
   ],
   "source": [
    "from workflow import FWI\n",
    "fwi = FWI(solver, optimizer, preprocessor)"
   ]
  },
  {
   "cell_type": "code",
   "execution_count": 7,
   "id": "7a0fafc1-0082-416a-bcaf-b2da5474a18e",
   "metadata": {},
   "outputs": [
    {
     "name": "stdout",
     "output_type": "stream",
     "text": [
      "Iteration: 0 \t fcost: 3.7804e-07 \t step: 1.0000 \t\n",
      "Iteration: 1 \t fcost: 2.2500e-07 \t step: 1.0000 \t\n",
      "FWI workflow is finished.\n",
      "FWI workflow runs for 00h 01m 1.23s\n",
      "See the convergence history in iterate_LBFGS.log\n"
     ]
    }
   ],
   "source": [
    "fwi.run()"
   ]
  },
  {
   "cell_type": "code",
   "execution_count": 51,
   "id": "f3635001-1dd3-4911-939f-ea0797d6da3c",
   "metadata": {},
   "outputs": [
    {
     "data": {
      "text/plain": [
       "<matplotlib.image.AxesImage at 0x7f3a5cba0850>"
      ]
     },
     "execution_count": 51,
     "metadata": {},
     "output_type": "execute_result"
    },
    {
     "data": {
      "image/png": "[encoded data removed]",
      "text/plain": [
       "<Figure size 640x480 with 1 Axes>"
      ]
     },
     "metadata": {},
     "output_type": "display_data"
    }
   ],
   "source": [
    "plt.imshow(grad.T, cmap='seismic', vmin=-1000, vmax=1000)"
   ]
  },
  {
   "cell_type": "code",
   "execution_count": 27,
   "id": "8a67d12a-9bb6-495e-9c19-639058724ea3",
   "metadata": {},
   "outputs": [],
   "source": [
    "sg_obs = load_float('/scr2/haipeng/SWIT-1.1/01_fwi/data/obs/src12/sg_processed.bin').reshape(-1, nt)"
   ]
  },
  {
   "cell_type": "code",
   "execution_count": 28,
   "id": "6e40655b-91cc-4a34-8215-c9ce12d3cd3f",
   "metadata": {},
   "outputs": [
    {
     "data": {
      "text/plain": [
       "<matplotlib.image.AxesImage at 0x7f3a5ceea520>"
      ]
     },
     "execution_count": 28,
     "metadata": {},
     "output_type": "execute_result"
    },
    {
     "data": {
      "image/png": "[encoded data removed]",
      "text/plain": [
       "<Figure size 640x480 with 1 Axes>"
      ]
     },
     "metadata": {},
     "output_type": "display_data"
    }
   ],
   "source": [
    "plt.imshow(sg_obs.T)"
   ]
  },
  {
   "cell_type": "code",
   "execution_count": null,
   "id": "0cff68fa-12f2-4a9d-a205-b16cf1d7559c",
   "metadata": {},
   "outputs": [],
   "source": [
    "# grad = np.zeros((nx, nz))\n",
    "# for i in range(srcn):\n",
    "#     grad += load_float(config.path + 'data/syn/src{}/vp_gradient.bin'.format(i+1)).reshape(nx, nz)\n",
    "# grad = grad/grad.max()\n",
    "# plt.imshow(grad.T, vmin = -0.6, vmax = 0.6)"
   ]
  },
  {
   "cell_type": "code",
   "execution_count": 84,
   "id": "33f6d152-6b59-4144-8b74-75843bf7cdd5",
   "metadata": {},
   "outputs": [],
   "source": [
    "path = '/homes/sep/haipeng/develop/SWIT-1.0/examples-dev/case-01-Marmousi2/config.yaml'"
   ]
  },
  {
   "cell_type": "code",
   "execution_count": 85,
   "id": "cba5891e-fa00-48d7-b83e-6042ff815c5a",
   "metadata": {},
   "outputs": [],
   "source": [
    "par = load_yaml(path)"
   ]
  },
  {
   "cell_type": "code",
   "execution_count": 86,
   "id": "3dd1caa8-3a30-4ca4-aa0b-03bef35ed45a",
   "metadata": {},
   "outputs": [
    {
     "data": {
      "text/plain": [
       "{'Config': {'path': '/scr2/haipeng/SWIT-1.1/01_fwi/',\n",
       "  'job_type': 'fwi',\n",
       "  'cpu_max_num': 48,\n",
       "  'mpi_num': 40,\n",
       "  'fig_aspect': 1.0},\n",
       " 'Model': {'dt': 0.002,\n",
       "  'dx': 25,\n",
       "  'nt': 2001,\n",
       "  'nx': 481,\n",
       "  'nz': 141,\n",
       "  'pml': 40,\n",
       "  'acquisition_type': 'land',\n",
       "  'vp_true': '/homes/sep/haipeng/develop/SWIT-1.0/examples-dev/case-01-Marmousi2/acquisition/vp_true.npy',\n",
       "  'rho_true': '/homes/sep/haipeng/develop/SWIT-1.0/examples-dev/case-01-Marmousi2/acquisition/rho_true.npy'},\n",
       " 'Receiver': {'comp': 'p',\n",
       "  'coord_file': '/homes/sep/haipeng/develop/SWIT-1.0/examples-dev/case-01-Marmousi2/acquisition/rec_coord.npz'},\n",
       " 'Source': {'amp0': 1.0,\n",
       "  'f0': 5.0,\n",
       "  'type': 'ricker',\n",
       "  'coord_file': '/homes/sep/haipeng/develop/SWIT-1.0/examples-dev/case-01-Marmousi2/acquisition/src_coord.npy',\n",
       "  'wavelet_file': '/homes/sep/haipeng/develop/SWIT-1.0/examples-dev/case-01-Marmousi2/acquisition/wavelets.npy'},\n",
       " 'Optimizer': {'vp_init': '/homes/sep/haipeng/develop/SWIT-1.0/examples-dev/case-01-Marmousi2/acquisition/vp_init.npy',\n",
       "  'rho_init': '/homes/sep/haipeng/develop/SWIT-1.0/examples-dev/case-01-Marmousi2/acquisition/rho_init.npy',\n",
       "  'misfit_type': 'waveform',\n",
       "  'method': 'LBFGS',\n",
       "  'niter_max': 20,\n",
       "  'bound': False,\n",
       "  'vp_max': 5000,\n",
       "  'vp_min': 1000,\n",
       "  'grad_smooth_size': 0,\n",
       "  'update_vpmax': 50,\n",
       "  'grad_mask': None,\n",
       "  'debug': False},\n",
       " 'Preprocessor': {'filter_data': 'none',\n",
       "  'filter_high': 10.0,\n",
       "  'filter_low': 5.0,\n",
       "  'mute_near_offset': True,\n",
       "  'mute_near_distance': 500,\n",
       "  'mute_far_offset': True,\n",
       "  'mute_far_distance': 8000,\n",
       "  'mute_late_arrival': True,\n",
       "  'mute_late_size': 0.5,\n",
       "  'normalize_data': False}}"
      ]
     },
     "execution_count": 86,
     "metadata": {},
     "output_type": "execute_result"
    }
   ],
   "source": [
    "par"
   ]
  },
  {
   "cell_type": "code",
   "execution_count": null,
   "id": "9d0732ba-bd99-47d9-80bc-04bde842fcd2",
   "metadata": {},
   "outputs": [],
   "source": []
  }
 ],
 "metadata": {
  "kernelspec": {
   "display_name": "Python 3",
   "language": "python",
   "name": "python3"
  },
  "language_info": {
   "codemirror_mode": {
    "name": "ipython",
    "version": 3
   },
   "file_extension": ".py",
   "mimetype": "text/x-python",
   "name": "python",
   "nbconvert_exporter": "python",
   "pygments_lexer": "ipython3",
   "version": "3.9.13"
  }
 },
 "nbformat": 4,
 "nbformat_minor": 5
}
