{
 "cells": [
  {
   "cell_type": "code",
   "execution_count": null,
   "id": "8a2ea6e7-b5f4-4859-ab6f-66f74018be67",
   "metadata": {},
   "outputs": [],
   "source": [
    "import numpy as np\n",
    "import matplotlib.pyplot as plt\n",
    "import matplotlib\n",
    "from IPython.display import HTML"
   ]
  },
  {
   "cell_type": "code",
   "execution_count": null,
   "id": "f0f676ee-2fb5-4c91-98a8-e56f2eeae82f",
   "metadata": {},
   "outputs": [],
   "source": [
    "grad = np.load('/scr2/haipeng/SWIT-1.1/01_fwi/fwi/grad_ite_0001.npy') \n",
    "\n"
   ]
  }
 ],
 "metadata": {
  "kernelspec": {
   "display_name": "Python 3",
   "language": "python",
   "name": "python3"
  },
  "language_info": {
   "codemirror_mode": {
    "name": "ipython",
    "version": 3
   },
   "file_extension": ".py",
   "mimetype": "text/x-python",
   "name": "python",
   "nbconvert_exporter": "python",
   "pygments_lexer": "ipython3",
   "version": "3.9.13"
  }
 },
 "nbformat": 4,
 "nbformat_minor": 5
}
